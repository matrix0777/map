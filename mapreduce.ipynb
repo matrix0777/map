{
 "cells": [
  {
   "cell_type": "code",
   "execution_count": 1,
   "id": "268a861c",
   "metadata": {},
   "outputs": [
    {
     "name": "stdout",
     "output_type": "stream",
     "text": [
      "hello: 2\n",
      "world: 1\n",
      "mapreduce: 2\n",
      "is: 1\n",
      "simple: 1\n"
     ]
    }
   ],
   "source": [
    "from collections import defaultdict\n",
    "\n",
    "# Simulating the \"Map\" step\n",
    "def mapper(text):\n",
    "    for line in text.splitlines():\n",
    "        for word in line.strip().split():\n",
    "            yield (word.lower(), 1)\n",
    "\n",
    "# Simulating the \"Shuffle and Sort\" step\n",
    "def shuffle_and_sort(mapped_data):\n",
    "    shuffled = defaultdict(list)\n",
    "    for key, value in mapped_data:\n",
    "        shuffled[key].append(value)\n",
    "    return shuffled\n",
    "\n",
    "# Simulating the \"Reduce\" step\n",
    "def reducer(shuffled_data):\n",
    "    reduced = {}\n",
    "    for key, values in shuffled_data.items():\n",
    "        reduced[key] = sum(values)\n",
    "    return reduced\n",
    "\n",
    "# Sample input text\n",
    "text = \"\"\"Hello world\n",
    "Hello MapReduce\n",
    "MapReduce is simple\n",
    "\"\"\"\n",
    "\n",
    "# Run MapReduce\n",
    "mapped = list(mapper(text))\n",
    "shuffled = shuffle_and_sort(mapped)\n",
    "reduced = reducer(shuffled)\n",
    "\n",
    "# Output the result\n",
    "for word, count in reduced.items():\n",
    "    print(f\"{word}: {count}\")\n"
   ]
  }
 ],
 "metadata": {
  "kernelspec": {
   "display_name": "myenv",
   "language": "python",
   "name": "python3"
  },
  "language_info": {
   "codemirror_mode": {
    "name": "ipython",
    "version": 3
   },
   "file_extension": ".py",
   "mimetype": "text/x-python",
   "name": "python",
   "nbconvert_exporter": "python",
   "pygments_lexer": "ipython3",
   "version": "3.12.3"
  }
 },
 "nbformat": 4,
 "nbformat_minor": 5
}
